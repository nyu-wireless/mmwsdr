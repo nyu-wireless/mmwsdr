{
 "cells": [
  {
   "cell_type": "markdown",
   "source": [
    "## Import Libraries"
   ],
   "metadata": {
    "collapsed": false,
    "pycharm": {
     "name": "#%% md\n"
    }
   }
  },
  {
   "cell_type": "code",
   "execution_count": 2,
   "metadata": {
    "collapsed": true,
    "pycharm": {
     "name": "#%% code\n"
    }
   },
   "outputs": [],
   "source": [
    "import os\n",
    "import sys\n",
    "import time\n",
    "import struct\n",
    "import numpy as np\n",
    "import matplotlib.pyplot as plt\n",
    "\n",
    "path = os.path.abspath('../../')\n",
    "if not path in sys.path:\n",
    "    sys.path.append(path)\n",
    "import mmwsdr"
   ]
  },
  {
   "cell_type": "markdown",
   "source": [
    "## Parameters"
   ],
   "metadata": {
    "collapsed": false,
    "pycharm": {
     "name": "#%% md\n"
    }
   }
  },
  {
   "cell_type": "code",
   "execution_count": 3,
   "outputs": [],
   "source": [
    "nread = 1024  # num of continuous samples per batch\n",
    "nskip = 1024  # num of samples to skip between batches\n",
    "nbatch = 1  # num of batches\n",
    "tx_pwr = 10000  # transmit power\n",
    "isdebug = True"
   ],
   "metadata": {
    "collapsed": false,
    "pycharm": {
     "name": "#%% code\n"
    }
   }
  },
  {
   "cell_type": "markdown",
   "source": [
    "## Create an SDR object"
   ],
   "metadata": {
    "collapsed": false,
    "pycharm": {
     "name": "#%% md\n"
    }
   }
  },
  {
   "cell_type": "code",
   "execution_count": 4,
   "outputs": [
    {
     "ename": "timeout",
     "evalue": "timed out",
     "output_type": "error",
     "traceback": [
      "\u001B[1;31m---------------------------------------------------------------------------\u001B[0m",
      "\u001B[1;31mtimeout\u001B[0m                                   Traceback (most recent call last)",
      "\u001B[1;32m<ipython-input-4-7636596c3c7c>\u001B[0m in \u001B[0;36m<module>\u001B[1;34m\u001B[0m\n\u001B[1;32m----> 1\u001B[1;33m \u001B[0msdr0\u001B[0m \u001B[1;33m=\u001B[0m \u001B[0mmmwsdr\u001B[0m\u001B[1;33m.\u001B[0m\u001B[0msdr\u001B[0m\u001B[1;33m.\u001B[0m\u001B[0mSivers60GHz\u001B[0m\u001B[1;33m(\u001B[0m\u001B[0mip\u001B[0m\u001B[1;33m=\u001B[0m\u001B[1;34m'10.113.6.3'\u001B[0m\u001B[1;33m,\u001B[0m \u001B[0munit_name\u001B[0m\u001B[1;33m=\u001B[0m\u001B[1;34m'SN0243'\u001B[0m\u001B[1;33m,\u001B[0m \u001B[0misdebug\u001B[0m\u001B[1;33m=\u001B[0m\u001B[0misdebug\u001B[0m\u001B[1;33m)\u001B[0m\u001B[1;33m\u001B[0m\u001B[1;33m\u001B[0m\u001B[0m\n\u001B[0m\u001B[0;32m      2\u001B[0m \u001B[0msdr0\u001B[0m\u001B[1;33m.\u001B[0m\u001B[0mfpga\u001B[0m\u001B[1;33m.\u001B[0m\u001B[0mconfigure\u001B[0m\u001B[1;33m(\u001B[0m\u001B[1;34m'../../config/rfsoc.cfg'\u001B[0m\u001B[1;33m)\u001B[0m\u001B[1;33m\u001B[0m\u001B[1;33m\u001B[0m\u001B[0m\n\u001B[0;32m      3\u001B[0m \u001B[1;33m\u001B[0m\u001B[0m\n\u001B[0;32m      4\u001B[0m \u001B[1;31m# Make sure that the nodes are not transmitting\u001B[0m\u001B[1;33m\u001B[0m\u001B[1;33m\u001B[0m\u001B[1;33m\u001B[0m\u001B[0m\n\u001B[0;32m      5\u001B[0m \u001B[0msdr0\u001B[0m\u001B[1;33m.\u001B[0m\u001B[0msend\u001B[0m\u001B[1;33m(\u001B[0m\u001B[0mnp\u001B[0m\u001B[1;33m.\u001B[0m\u001B[0mzeros\u001B[0m\u001B[1;33m(\u001B[0m\u001B[1;33m(\u001B[0m\u001B[0mnread\u001B[0m\u001B[1;33m,\u001B[0m\u001B[1;33m)\u001B[0m\u001B[1;33m,\u001B[0m \u001B[0mdtype\u001B[0m\u001B[1;33m=\u001B[0m\u001B[1;34m'int16'\u001B[0m\u001B[1;33m)\u001B[0m\u001B[1;33m)\u001B[0m\u001B[1;33m\u001B[0m\u001B[1;33m\u001B[0m\u001B[0m\n",
      "\u001B[1;32mC:\\Workspace\\mmwsdr\\host\\mmwsdr\\sdr\\sivers.py\u001B[0m in \u001B[0;36m__init__\u001B[1;34m(self, ip, freq, unit_name, board_type, eder_version, isdebug)\u001B[0m\n\u001B[0;32m     39\u001B[0m \u001B[1;33m\u001B[0m\u001B[0m\n\u001B[0;32m     40\u001B[0m         \u001B[1;31m# Create the FPGA and the Array object\u001B[0m\u001B[1;33m\u001B[0m\u001B[1;33m\u001B[0m\u001B[1;33m\u001B[0m\u001B[0m\n\u001B[1;32m---> 41\u001B[1;33m         \u001B[0mself\u001B[0m\u001B[1;33m.\u001B[0m\u001B[0mfpga\u001B[0m \u001B[1;33m=\u001B[0m \u001B[0mmmwsdr\u001B[0m\u001B[1;33m.\u001B[0m\u001B[0mfpga\u001B[0m\u001B[1;33m.\u001B[0m\u001B[0mZCU111\u001B[0m\u001B[1;33m(\u001B[0m\u001B[0mip\u001B[0m\u001B[1;33m=\u001B[0m\u001B[0mip\u001B[0m\u001B[1;33m,\u001B[0m \u001B[0misdebug\u001B[0m\u001B[1;33m=\u001B[0m\u001B[0misdebug\u001B[0m\u001B[1;33m)\u001B[0m\u001B[1;33m\u001B[0m\u001B[1;33m\u001B[0m\u001B[0m\n\u001B[0m\u001B[0;32m     42\u001B[0m \u001B[1;33m\u001B[0m\u001B[0m\n\u001B[0;32m     43\u001B[0m     \u001B[1;32mdef\u001B[0m \u001B[0m__del__\u001B[0m\u001B[1;33m(\u001B[0m\u001B[0mself\u001B[0m\u001B[1;33m)\u001B[0m\u001B[1;33m:\u001B[0m\u001B[1;33m\u001B[0m\u001B[1;33m\u001B[0m\u001B[0m\n",
      "\u001B[1;32mC:\\Workspace\\mmwsdr\\host\\mmwsdr\\fpga\\zcu111.py\u001B[0m in \u001B[0;36m__init__\u001B[1;34m(self, ip, isdebug)\u001B[0m\n\u001B[0;32m     78\u001B[0m         \u001B[1;31m# Establish the TCP connections\u001B[0m\u001B[1;33m\u001B[0m\u001B[1;33m\u001B[0m\u001B[1;33m\u001B[0m\u001B[0m\n\u001B[0;32m     79\u001B[0m         \u001B[0mself\u001B[0m\u001B[1;33m.\u001B[0m\u001B[0m__connect\u001B[0m\u001B[1;33m(\u001B[0m\u001B[1;33m)\u001B[0m\u001B[1;33m\u001B[0m\u001B[1;33m\u001B[0m\u001B[0m\n\u001B[1;32m---> 80\u001B[1;33m         \u001B[0mself\u001B[0m\u001B[1;33m.\u001B[0m\u001B[0m__send_cmd\u001B[0m\u001B[1;33m(\u001B[0m\u001B[1;34m'TermMode 1'\u001B[0m\u001B[1;33m)\u001B[0m\u001B[1;33m\u001B[0m\u001B[1;33m\u001B[0m\u001B[0m\n\u001B[0m\u001B[0;32m     81\u001B[0m \u001B[1;33m\u001B[0m\u001B[0m\n\u001B[0;32m     82\u001B[0m     \u001B[1;32mdef\u001B[0m \u001B[0m__del__\u001B[0m\u001B[1;33m(\u001B[0m\u001B[0mself\u001B[0m\u001B[1;33m)\u001B[0m\u001B[1;33m:\u001B[0m\u001B[1;33m\u001B[0m\u001B[1;33m\u001B[0m\u001B[0m\n",
      "\u001B[1;32mC:\\Workspace\\mmwsdr\\host\\mmwsdr\\fpga\\zcu111.py\u001B[0m in \u001B[0;36m__send_cmd\u001B[1;34m(self, cmd)\u001B[0m\n\u001B[0;32m    124\u001B[0m \u001B[1;33m\u001B[0m\u001B[0m\n\u001B[0;32m    125\u001B[0m         \u001B[1;31m# Read the response and print if `isdebug` is true\u001B[0m\u001B[1;33m\u001B[0m\u001B[1;33m\u001B[0m\u001B[1;33m\u001B[0m\u001B[0m\n\u001B[1;32m--> 126\u001B[1;33m         \u001B[0mrsp\u001B[0m \u001B[1;33m=\u001B[0m \u001B[0mself\u001B[0m\u001B[1;33m.\u001B[0m\u001B[0msock_ctrl\u001B[0m\u001B[1;33m.\u001B[0m\u001B[0mrecv\u001B[0m\u001B[1;33m(\u001B[0m\u001B[1;36m32768\u001B[0m\u001B[1;33m)\u001B[0m\u001B[1;33m\u001B[0m\u001B[1;33m\u001B[0m\u001B[0m\n\u001B[0m\u001B[0;32m    127\u001B[0m         \u001B[1;32mif\u001B[0m \u001B[0mself\u001B[0m\u001B[1;33m.\u001B[0m\u001B[0misdebug\u001B[0m\u001B[1;33m:\u001B[0m\u001B[1;33m\u001B[0m\u001B[1;33m\u001B[0m\u001B[0m\n\u001B[0;32m    128\u001B[0m             \u001B[0mprint\u001B[0m\u001B[1;33m(\u001B[0m\u001B[0mrsp\u001B[0m\u001B[1;33m)\u001B[0m\u001B[1;33m\u001B[0m\u001B[1;33m\u001B[0m\u001B[0m\n",
      "\u001B[1;31mtimeout\u001B[0m: timed out"
     ]
    }
   ],
   "source": [
    "sdr0 = mmwsdr.sdr.Sivers60GHz(ip='10.113.6.3', unit_name='SN0243', isdebug=isdebug)\n",
    "sdr0.fpga.configure('../../config/rfsoc.cfg')\n",
    "\n",
    "# Make sure that the nodes are not transmitting\n",
    "sdr0.send(np.zeros((nread,), dtype='int16'))"
   ],
   "metadata": {
    "collapsed": false,
    "pycharm": {
     "name": "#%% code\n"
    }
   }
  },
  {
   "cell_type": "markdown",
   "source": [
    "## Transmit data"
   ],
   "metadata": {
    "collapsed": false,
    "pycharm": {
     "name": "#%% md\n"
    }
   }
  },
  {
   "cell_type": "code",
   "execution_count": null,
   "outputs": [],
   "source": [
    "# Create a signal in frequency domain\n",
    "sc = 100  # subcarrier index.\n",
    "nfft = nread\n",
    "txfd = np.zeros((nfft,), dtype='int16')\n",
    "txfd[(nfft >> 1) + sc] = 1\n",
    "txfd = np.fft.fftshift(txfd, axes=0)\n",
    "\n",
    "# Then, convert it back to time domain\n",
    "txtd = np.fft.ifft(txfd, axis=0)\n",
    "\n",
    "# Set the tx power\n",
    "txtd = txtd / np.mean(np.abs(txfd)) * tx_pwr\n",
    "sdr0.send(txtd)"
   ],
   "metadata": {
    "collapsed": false,
    "pycharm": {
     "name": "#%% code\n"
    }
   }
  },
  {
   "cell_type": "markdown",
   "source": [
    "## Receive data"
   ],
   "metadata": {
    "collapsed": false,
    "pycharm": {
     "name": "#%% md\n"
    }
   }
  },
  {
   "cell_type": "code",
   "execution_count": null,
   "outputs": [],
   "source": [
    "nbatch = 10\n",
    "\n",
    "rxtd = sdr0.recv(nread, nskip, nbatch)\n",
    "\n",
    "rxfd = np.fft.fft(rxtd, axis=1)\n",
    "rxfd = np.fft.fftshift(rxfd, axes=1)\n",
    "f = np.linspace(-nfft / 2, nfft / 2)\n",
    "for ibatch in range(nbatch):\n",
    "    plt.plot((abs(rxfd[ibatch, :])), '-')\n",
    "plt.show()"
   ],
   "metadata": {
    "collapsed": false,
    "pycharm": {
     "name": "#%% code\n"
    }
   }
  },
  {
   "cell_type": "code",
   "execution_count": null,
   "outputs": [],
   "source": [
    "np.mean(rxtd)\n",
    "# nsamp = nbatch * nread * sdr0.fpga.nch * 2\n",
    "# sdr0.sock(b'+ %d %d %d' % (nread/sdr0.fpga.npar, nskip / sdr0.fpga.npar, nsamp * 2))"
   ],
   "metadata": {
    "collapsed": false,
    "pycharm": {
     "name": "#%%\n"
    }
   }
  }
 ],
 "metadata": {
  "kernelspec": {
   "name": "python3",
   "language": "python",
   "display_name": "Python 3"
  },
  "language_info": {
   "codemirror_mode": {
    "name": "ipython",
    "version": 2
   },
   "file_extension": ".py",
   "mimetype": "text/x-python",
   "name": "python",
   "nbconvert_exporter": "python",
   "pygments_lexer": "ipython2",
   "version": "2.7.6"
  }
 },
 "nbformat": 4,
 "nbformat_minor": 0
}